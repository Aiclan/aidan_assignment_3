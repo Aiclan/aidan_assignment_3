{
 "cells": [
  {
   "cell_type": "code",
   "execution_count": 1,
   "id": "fab950b4-5cbc-48b8-b50f-13687eabb494",
   "metadata": {},
   "outputs": [],
   "source": [
    "import os\n",
    "import requests\n",
    "import pandas as pd\n",
    "from bs4 import BeautifulSoup\n",
    "import re"
   ]
  },
  {
   "cell_type": "code",
   "execution_count": 2,
   "id": "4b6418a0-4593-44bf-9a8e-41256495cdb4",
   "metadata": {},
   "outputs": [],
   "source": [
    "# had issues collecting all the poems at once, so had to limit the sample size to these 5. and scraped each webpage individually\n",
    "data = [['All Things Will Die', 'https://www.simple-poetry.com/poems/all-things-will-die-35392463820'], ['A Farewell', 'https://www.simple-poetry.com/poems/a-farewell-60361038435'], ['Adeline', 'https://www.simple-poetry.com/poems/adeline-83046182883'], ['Battle of Brunanburgh', 'https://www.simple-poetry.com/poems/battle-of-brunanburgh-28755318929'], ['After-Thought', 'https://www.simple-poetry.com/poems/after-thought-59396218381']]"
   ]
  },
  {
   "cell_type": "code",
   "execution_count": 3,
   "id": "db3c0fb0-ba6c-4d98-84ee-c4e304dcf128",
   "metadata": {},
   "outputs": [
    {
     "name": "stdout",
     "output_type": "stream",
     "text": [
      "               Poem_Name                                                URL\n",
      "0    All Things Will Die  https://www.simple-poetry.com/poems/all-things...\n",
      "1             A Farewell  https://www.simple-poetry.com/poems/a-farewell...\n",
      "2                Adeline  https://www.simple-poetry.com/poems/adeline-83...\n",
      "3  Battle of Brunanburgh  https://www.simple-poetry.com/poems/battle-of-...\n",
      "4          After-Thought  https://www.simple-poetry.com/poems/after-thou...\n"
     ]
    }
   ],
   "source": [
    "df = pd.DataFrame(data, columns=['Poem_Name', 'URL'])\n",
    "print(df)"
   ]
  },
  {
   "cell_type": "code",
   "execution_count": 16,
   "id": "9fb49543-30cc-409c-b01a-4251364bfdcf",
   "metadata": {},
   "outputs": [],
   "source": [
    "poem_urls = df"
   ]
  },
  {
   "cell_type": "code",
   "execution_count": 27,
   "id": "f70ccecc-c420-4196-a537-e67615d98137",
   "metadata": {},
   "outputs": [],
   "source": [
    "def clean_text(text):\n",
    "    line = text.get_text(separator=\" \")\n",
    "    return line"
   ]
  },
  {
   "cell_type": "code",
   "execution_count": 34,
   "id": "5c940056-d91f-458e-b1fe-d6c1a709f0e7",
   "metadata": {},
   "outputs": [],
   "source": [
    "def scrape_poem(url):\n",
    "    response = requests.get(url, verify=False)\n",
    "    html_string = response.text\n",
    "    document = BeautifulSoup(html_string, \"html.parser\")\n",
    "    poems = document.find_all('article')\n",
    "    for text in poems:\n",
    "        line = text.get_text(separator=\" \")\n",
    "    return line"
   ]
  },
  {
   "cell_type": "code",
   "execution_count": 35,
   "id": "4935d8cb-eedf-468a-b1c5-a60ccb332b7f",
   "metadata": {},
   "outputs": [
    {
     "name": "stderr",
     "output_type": "stream",
     "text": [
      "C:\\Users\\Aidan\\AppData\\Local\\Programs\\Python\\Python312\\Lib\\site-packages\\urllib3\\connectionpool.py:1099: InsecureRequestWarning: Unverified HTTPS request is being made to host 'www.simple-poetry.com'. Adding certificate verification is strongly advised. See: https://urllib3.readthedocs.io/en/latest/advanced-usage.html#tls-warnings\n",
      "  warnings.warn(\n",
      "C:\\Users\\Aidan\\AppData\\Local\\Programs\\Python\\Python312\\Lib\\site-packages\\urllib3\\connectionpool.py:1099: InsecureRequestWarning: Unverified HTTPS request is being made to host 'www.simple-poetry.com'. Adding certificate verification is strongly advised. See: https://urllib3.readthedocs.io/en/latest/advanced-usage.html#tls-warnings\n",
      "  warnings.warn(\n",
      "C:\\Users\\Aidan\\AppData\\Local\\Programs\\Python\\Python312\\Lib\\site-packages\\urllib3\\connectionpool.py:1099: InsecureRequestWarning: Unverified HTTPS request is being made to host 'www.simple-poetry.com'. Adding certificate verification is strongly advised. See: https://urllib3.readthedocs.io/en/latest/advanced-usage.html#tls-warnings\n",
      "  warnings.warn(\n",
      "C:\\Users\\Aidan\\AppData\\Local\\Programs\\Python\\Python312\\Lib\\site-packages\\urllib3\\connectionpool.py:1099: InsecureRequestWarning: Unverified HTTPS request is being made to host 'www.simple-poetry.com'. Adding certificate verification is strongly advised. See: https://urllib3.readthedocs.io/en/latest/advanced-usage.html#tls-warnings\n",
      "  warnings.warn(\n",
      "C:\\Users\\Aidan\\AppData\\Local\\Programs\\Python\\Python312\\Lib\\site-packages\\urllib3\\connectionpool.py:1099: InsecureRequestWarning: Unverified HTTPS request is being made to host 'www.simple-poetry.com'. Adding certificate verification is strongly advised. See: https://urllib3.readthedocs.io/en/latest/advanced-usage.html#tls-warnings\n",
      "  warnings.warn(\n"
     ]
    }
   ],
   "source": [
    "for index, row in poem_urls.iterrows():\n",
    "    try:\n",
    "        poem_urls.at[index, 'text'] = scrape_poem(row['URL'])\n",
    "    except:\n",
    "        poem_urls.at[index, 'text'] = \"URL not available\""
   ]
  },
  {
   "cell_type": "code",
   "execution_count": 36,
   "id": "5437dd2e-c198-4e6e-8a40-52ef5c8876e4",
   "metadata": {},
   "outputs": [
    {
     "data": {
      "text/html": [
       "<div>\n",
       "<style scoped>\n",
       "    .dataframe tbody tr th:only-of-type {\n",
       "        vertical-align: middle;\n",
       "    }\n",
       "\n",
       "    .dataframe tbody tr th {\n",
       "        vertical-align: top;\n",
       "    }\n",
       "\n",
       "    .dataframe thead th {\n",
       "        text-align: right;\n",
       "    }\n",
       "</style>\n",
       "<table border=\"1\" class=\"dataframe\">\n",
       "  <thead>\n",
       "    <tr style=\"text-align: right;\">\n",
       "      <th></th>\n",
       "      <th>Poem_Name</th>\n",
       "      <th>URL</th>\n",
       "      <th>text</th>\n",
       "    </tr>\n",
       "  </thead>\n",
       "  <tbody>\n",
       "    <tr>\n",
       "      <th>0</th>\n",
       "      <td>All Things Will Die</td>\n",
       "      <td>https://www.simple-poetry.com/poems/all-things...</td>\n",
       "      <td>All Things will Die Clearly the blue river chi...</td>\n",
       "    </tr>\n",
       "    <tr>\n",
       "      <th>1</th>\n",
       "      <td>A Farewell</td>\n",
       "      <td>https://www.simple-poetry.com/poems/a-farewell...</td>\n",
       "      <td>Flow down, cold rivulet, to the sea, Thy tribu...</td>\n",
       "    </tr>\n",
       "    <tr>\n",
       "      <th>2</th>\n",
       "      <td>Adeline</td>\n",
       "      <td>https://www.simple-poetry.com/poems/adeline-83...</td>\n",
       "      <td>I. Mystery of mysteries, Faintly smiling Adeli...</td>\n",
       "    </tr>\n",
       "    <tr>\n",
       "      <th>3</th>\n",
       "      <td>Battle of Brunanburgh</td>\n",
       "      <td>https://www.simple-poetry.com/poems/battle-of-...</td>\n",
       "      <td>Athelstan King, Lord among Earls, Bracelet-bes...</td>\n",
       "    </tr>\n",
       "    <tr>\n",
       "      <th>4</th>\n",
       "      <td>After-Thought</td>\n",
       "      <td>https://www.simple-poetry.com/poems/after-thou...</td>\n",
       "      <td>I thought of Thee, my partner and my guide, As...</td>\n",
       "    </tr>\n",
       "  </tbody>\n",
       "</table>\n",
       "</div>"
      ],
      "text/plain": [
       "               Poem_Name                                                URL  \\\n",
       "0    All Things Will Die  https://www.simple-poetry.com/poems/all-things...   \n",
       "1             A Farewell  https://www.simple-poetry.com/poems/a-farewell...   \n",
       "2                Adeline  https://www.simple-poetry.com/poems/adeline-83...   \n",
       "3  Battle of Brunanburgh  https://www.simple-poetry.com/poems/battle-of-...   \n",
       "4          After-Thought  https://www.simple-poetry.com/poems/after-thou...   \n",
       "\n",
       "                                                text  \n",
       "0  All Things will Die Clearly the blue river chi...  \n",
       "1  Flow down, cold rivulet, to the sea, Thy tribu...  \n",
       "2  I. Mystery of mysteries, Faintly smiling Adeli...  \n",
       "3  Athelstan King, Lord among Earls, Bracelet-bes...  \n",
       "4  I thought of Thee, my partner and my guide, As...  "
      ]
     },
     "execution_count": 36,
     "metadata": {},
     "output_type": "execute_result"
    }
   ],
   "source": [
    "poem_urls"
   ]
  },
  {
   "cell_type": "code",
   "execution_count": 38,
   "id": "fa10691e-279f-44a5-91f0-8f07ddc35aa6",
   "metadata": {},
   "outputs": [],
   "source": [
    "df.to_csv(\"Example_Tennyson_Poems.csv\")"
   ]
  },
  {
   "cell_type": "code",
   "execution_count": null,
   "id": "7922aea4-81a4-4874-9108-04bb903bd40c",
   "metadata": {},
   "outputs": [],
   "source": []
  }
 ],
 "metadata": {
  "kernelspec": {
   "display_name": "Python 3 (ipykernel)",
   "language": "python",
   "name": "python3"
  },
  "language_info": {
   "codemirror_mode": {
    "name": "ipython",
    "version": 3
   },
   "file_extension": ".py",
   "mimetype": "text/x-python",
   "name": "python",
   "nbconvert_exporter": "python",
   "pygments_lexer": "ipython3",
   "version": "3.12.5"
  }
 },
 "nbformat": 4,
 "nbformat_minor": 5
}
